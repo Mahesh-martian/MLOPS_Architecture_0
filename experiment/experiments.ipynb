{
 "cells": [
  {
   "cell_type": "code",
   "execution_count": 1,
   "metadata": {},
   "outputs": [],
   "source": [
    "import os\n",
    "\n",
    "import pandas as pd\n",
    "import numpy as np\n",
    "\n",
    "from sklearn.model_selection import train_test_split\n",
    "from sklearn.preprocessing import LabelEncoder\n",
    "from sklearn.metrics import accuracy_score, classification_report\n",
    "from sklearn.ensemble import ExtraTreesClassifier"
   ]
  },
  {
   "cell_type": "code",
   "execution_count": 2,
   "metadata": {},
   "outputs": [
    {
     "name": "stderr",
     "output_type": "stream",
     "text": [
      "<>:2: SyntaxWarning: invalid escape sequence '\\F'\n",
      "<>:2: SyntaxWarning: invalid escape sequence '\\F'\n",
      "C:\\Users\\Admin\\AppData\\Local\\Temp\\ipykernel_10172\\2364736062.py:2: SyntaxWarning: invalid escape sequence '\\F'\n",
      "  \"D:\\F drive\\learning\\Data Science\\FSDS_New_batch_2023\\MLOPS_project\\MLOPS_Architechture_0\\BlackMi_mobiles_v_0\\data\\Raw_data.gzip\"\n"
     ]
    }
   ],
   "source": [
    "df = pd.read_parquet(\n",
    "    \"D:\\F drive\\learning\\Data Science\\FSDS_New_batch_2023\\MLOPS_project\\MLOPS_Architechture_0\\BlackMi_mobiles_v_0\\data\\Raw_data.gzip\"\n",
    ")"
   ]
  },
  {
   "cell_type": "code",
   "execution_count": 3,
   "metadata": {},
   "outputs": [
    {
     "data": {
      "text/plain": [
       "(100000, 563)"
      ]
     },
     "execution_count": 3,
     "metadata": {},
     "output_type": "execute_result"
    }
   ],
   "source": [
    "df.shape"
   ]
  },
  {
   "cell_type": "code",
   "execution_count": 10,
   "metadata": {},
   "outputs": [],
   "source": [
    "res = df.iloc[:10000, :]"
   ]
  },
  {
   "cell_type": "code",
   "execution_count": 12,
   "metadata": {},
   "outputs": [
    {
     "name": "stderr",
     "output_type": "stream",
     "text": [
      "<>:2: SyntaxWarning: invalid escape sequence '\\F'\n",
      "<>:2: SyntaxWarning: invalid escape sequence '\\F'\n",
      "C:\\Users\\Admin\\AppData\\Local\\Temp\\ipykernel_10172\\237255865.py:2: SyntaxWarning: invalid escape sequence '\\F'\n",
      "  \"D:\\F drive\\learning\\Data Science\\FSDS_New_batch_2023\\MLOPS_project\\MLOPS_Architechture_0\\BlackMi_mobiles_v_0\\data\\Raw_data.csv\"\n"
     ]
    }
   ],
   "source": [
    "res.to_csv(\n",
    "    \"D:\\F drive\\learning\\Data Science\\FSDS_New_batch_2023\\MLOPS_project\\MLOPS_Architechture_0\\BlackMi_mobiles_v_0\\data\\Raw_data.csv\"\n",
    ")"
   ]
  },
  {
   "cell_type": "code",
   "execution_count": null,
   "metadata": {},
   "outputs": [],
   "source": []
  }
 ],
 "metadata": {
  "kernelspec": {
   "display_name": "blackmiver0Env",
   "language": "python",
   "name": "python3"
  },
  "language_info": {
   "codemirror_mode": {
    "name": "ipython",
    "version": 3
   },
   "file_extension": ".py",
   "mimetype": "text/x-python",
   "name": "python",
   "nbconvert_exporter": "python",
   "pygments_lexer": "ipython3",
   "version": "3.12.0"
  }
 },
 "nbformat": 4,
 "nbformat_minor": 2
}
